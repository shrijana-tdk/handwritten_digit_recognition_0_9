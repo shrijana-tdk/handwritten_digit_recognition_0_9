{
 "cells": [
  {
   "cell_type": "markdown",
   "id": "cac9b559-3980-4cc0-b2c9-60f7159bb8ff",
   "metadata": {},
   "source": [
    "## Collecting images"
   ]
  },
  {
   "cell_type": "code",
   "execution_count": 61,
   "id": "e08fce26-69e3-4395-86c4-dd7033d6ec1b",
   "metadata": {},
   "outputs": [],
   "source": [
    "def screen_capture():\n",
    "    import pyscreenshot as ImageGrab\n",
    "    import time\n",
    "\n",
    "    images_folder = \"captured_images/9/\"\n",
    "\n",
    "    for i in range(1,101):\n",
    "        time.sleep(8)\n",
    "        im = ImageGrab.grab(bbox = (170,320,670,810))\n",
    "        print(\"Saved...\",i)\n",
    "        im.save(images_folder+str(i)+\".png\")\n",
    "        print(\"Clear screen and redraw...\")"
   ]
  },
  {
   "cell_type": "code",
   "execution_count": null,
   "id": "bf48e477-068f-4a70-b9cd-c5fc7cc8b2ca",
   "metadata": {},
   "outputs": [],
   "source": [
    "screen_capture()"
   ]
  },
  {
   "cell_type": "code",
   "execution_count": 50,
   "id": "7c20a0f6-88d3-4dcb-9b00-08d752ae3479",
   "metadata": {},
   "outputs": [],
   "source": [
    "#pyscreenshot,opencv-python,pandas,scikit-learn"
   ]
  },
  {
   "cell_type": "markdown",
   "id": "ba417148-35b6-497b-87ff-bf3d9788881a",
   "metadata": {},
   "source": [
    "# Generate dataset"
   ]
  },
  {
   "cell_type": "code",
   "execution_count": 67,
   "id": "2134c727-0689-4d38-9eda-48e87decf75d",
   "metadata": {},
   "outputs": [],
   "source": [
    "import cv2\n",
    "import csv\n",
    "import glob"
   ]
  },
  {
   "cell_type": "code",
   "execution_count": 68,
   "id": "9d7ac344-a553-4beb-9139-6ed3e062e493",
   "metadata": {},
   "outputs": [],
   "source": [
    "header = [\"label\"]\n",
    "for i in range(0,784):\n",
    "    header.append(\"pixel\"+str(i))\n",
    "with open(\"dataset.csv\", \"a\") as f:\n",
    "    writer = csv.writer(f)\n",
    "    writer.writerow(header)"
   ]
  },
  {
   "cell_type": "code",
   "execution_count": 69,
   "id": "f0032401-fb1a-4715-9131-d134fcb92c0e",
   "metadata": {},
   "outputs": [],
   "source": [
    "for label in range(10):\n",
    "    dirList = glob.glob(\"captured_images/\"+str(label)+\"/*.png\")\n",
    "\n",
    "    for img_path in dirList:\n",
    "        im = cv2.imread(img_path)\n",
    "        im_gray = cv2.cvtColor(im,cv2.COLOR_BGR2GRAY)\n",
    "        im_gray = cv2.GaussianBlur(im_gray,(15,15), 0)\n",
    "        roi = cv2.resize(im_gray, (28,28), interpolation = cv2.INTER_AREA)\n",
    "    \n",
    "        data = []\n",
    "        data.append(label)\n",
    "        rows, cols = roi.shape\n",
    "\n",
    "        ##Add pixel one by one into data array\n",
    "        for i in range(rows):\n",
    "            for j in range(cols):\n",
    "                k = roi[i,j]\n",
    "                if k>100:\n",
    "                    k=1\n",
    "                else:\n",
    "                    k=0\n",
    "                data.append(k) \n",
    "        with open('dataset.csv', 'a') as f:\n",
    "            writer = csv.writer(f)\n",
    "            writer.writerow(data)"
   ]
  },
  {
   "cell_type": "markdown",
   "id": "1d511791-0132-45d6-b258-42fac602ab72",
   "metadata": {},
   "source": [
    "# Load the dataset"
   ]
  },
  {
   "cell_type": "code",
   "execution_count": 70,
   "id": "353ffa56-0224-413b-94f6-e0fe85c835fb",
   "metadata": {},
   "outputs": [
    {
     "data": {
      "text/html": [
       "<div>\n",
       "<style scoped>\n",
       "    .dataframe tbody tr th:only-of-type {\n",
       "        vertical-align: middle;\n",
       "    }\n",
       "\n",
       "    .dataframe tbody tr th {\n",
       "        vertical-align: top;\n",
       "    }\n",
       "\n",
       "    .dataframe thead th {\n",
       "        text-align: right;\n",
       "    }\n",
       "</style>\n",
       "<table border=\"1\" class=\"dataframe\">\n",
       "  <thead>\n",
       "    <tr style=\"text-align: right;\">\n",
       "      <th></th>\n",
       "      <th>label</th>\n",
       "      <th>pixel0</th>\n",
       "      <th>pixel1</th>\n",
       "      <th>pixel2</th>\n",
       "      <th>pixel3</th>\n",
       "      <th>pixel4</th>\n",
       "      <th>pixel5</th>\n",
       "      <th>pixel6</th>\n",
       "      <th>pixel7</th>\n",
       "      <th>pixel8</th>\n",
       "      <th>...</th>\n",
       "      <th>pixel774</th>\n",
       "      <th>pixel775</th>\n",
       "      <th>pixel776</th>\n",
       "      <th>pixel777</th>\n",
       "      <th>pixel778</th>\n",
       "      <th>pixel779</th>\n",
       "      <th>pixel780</th>\n",
       "      <th>pixel781</th>\n",
       "      <th>pixel782</th>\n",
       "      <th>pixel783</th>\n",
       "    </tr>\n",
       "  </thead>\n",
       "  <tbody>\n",
       "    <tr>\n",
       "      <th>51</th>\n",
       "      <td>0</td>\n",
       "      <td>0</td>\n",
       "      <td>0</td>\n",
       "      <td>0</td>\n",
       "      <td>0</td>\n",
       "      <td>0</td>\n",
       "      <td>0</td>\n",
       "      <td>0</td>\n",
       "      <td>0</td>\n",
       "      <td>0</td>\n",
       "      <td>...</td>\n",
       "      <td>0</td>\n",
       "      <td>0</td>\n",
       "      <td>0</td>\n",
       "      <td>0</td>\n",
       "      <td>0</td>\n",
       "      <td>0</td>\n",
       "      <td>0</td>\n",
       "      <td>0</td>\n",
       "      <td>0</td>\n",
       "      <td>0</td>\n",
       "    </tr>\n",
       "    <tr>\n",
       "      <th>703</th>\n",
       "      <td>7</td>\n",
       "      <td>0</td>\n",
       "      <td>0</td>\n",
       "      <td>0</td>\n",
       "      <td>0</td>\n",
       "      <td>0</td>\n",
       "      <td>0</td>\n",
       "      <td>0</td>\n",
       "      <td>0</td>\n",
       "      <td>0</td>\n",
       "      <td>...</td>\n",
       "      <td>0</td>\n",
       "      <td>0</td>\n",
       "      <td>0</td>\n",
       "      <td>0</td>\n",
       "      <td>0</td>\n",
       "      <td>0</td>\n",
       "      <td>0</td>\n",
       "      <td>0</td>\n",
       "      <td>0</td>\n",
       "      <td>0</td>\n",
       "    </tr>\n",
       "    <tr>\n",
       "      <th>795</th>\n",
       "      <td>7</td>\n",
       "      <td>0</td>\n",
       "      <td>0</td>\n",
       "      <td>0</td>\n",
       "      <td>0</td>\n",
       "      <td>0</td>\n",
       "      <td>0</td>\n",
       "      <td>0</td>\n",
       "      <td>0</td>\n",
       "      <td>0</td>\n",
       "      <td>...</td>\n",
       "      <td>0</td>\n",
       "      <td>0</td>\n",
       "      <td>0</td>\n",
       "      <td>0</td>\n",
       "      <td>0</td>\n",
       "      <td>0</td>\n",
       "      <td>0</td>\n",
       "      <td>0</td>\n",
       "      <td>0</td>\n",
       "      <td>0</td>\n",
       "    </tr>\n",
       "    <tr>\n",
       "      <th>543</th>\n",
       "      <td>5</td>\n",
       "      <td>0</td>\n",
       "      <td>0</td>\n",
       "      <td>0</td>\n",
       "      <td>0</td>\n",
       "      <td>0</td>\n",
       "      <td>0</td>\n",
       "      <td>0</td>\n",
       "      <td>0</td>\n",
       "      <td>0</td>\n",
       "      <td>...</td>\n",
       "      <td>0</td>\n",
       "      <td>0</td>\n",
       "      <td>0</td>\n",
       "      <td>0</td>\n",
       "      <td>0</td>\n",
       "      <td>0</td>\n",
       "      <td>0</td>\n",
       "      <td>0</td>\n",
       "      <td>0</td>\n",
       "      <td>0</td>\n",
       "    </tr>\n",
       "    <tr>\n",
       "      <th>183</th>\n",
       "      <td>1</td>\n",
       "      <td>0</td>\n",
       "      <td>0</td>\n",
       "      <td>0</td>\n",
       "      <td>0</td>\n",
       "      <td>0</td>\n",
       "      <td>0</td>\n",
       "      <td>0</td>\n",
       "      <td>0</td>\n",
       "      <td>0</td>\n",
       "      <td>...</td>\n",
       "      <td>0</td>\n",
       "      <td>0</td>\n",
       "      <td>0</td>\n",
       "      <td>0</td>\n",
       "      <td>0</td>\n",
       "      <td>0</td>\n",
       "      <td>0</td>\n",
       "      <td>0</td>\n",
       "      <td>0</td>\n",
       "      <td>0</td>\n",
       "    </tr>\n",
       "    <tr>\n",
       "      <th>...</th>\n",
       "      <td>...</td>\n",
       "      <td>...</td>\n",
       "      <td>...</td>\n",
       "      <td>...</td>\n",
       "      <td>...</td>\n",
       "      <td>...</td>\n",
       "      <td>...</td>\n",
       "      <td>...</td>\n",
       "      <td>...</td>\n",
       "      <td>...</td>\n",
       "      <td>...</td>\n",
       "      <td>...</td>\n",
       "      <td>...</td>\n",
       "      <td>...</td>\n",
       "      <td>...</td>\n",
       "      <td>...</td>\n",
       "      <td>...</td>\n",
       "      <td>...</td>\n",
       "      <td>...</td>\n",
       "      <td>...</td>\n",
       "      <td>...</td>\n",
       "    </tr>\n",
       "    <tr>\n",
       "      <th>819</th>\n",
       "      <td>8</td>\n",
       "      <td>0</td>\n",
       "      <td>0</td>\n",
       "      <td>0</td>\n",
       "      <td>0</td>\n",
       "      <td>0</td>\n",
       "      <td>0</td>\n",
       "      <td>0</td>\n",
       "      <td>0</td>\n",
       "      <td>0</td>\n",
       "      <td>...</td>\n",
       "      <td>0</td>\n",
       "      <td>0</td>\n",
       "      <td>0</td>\n",
       "      <td>0</td>\n",
       "      <td>0</td>\n",
       "      <td>0</td>\n",
       "      <td>0</td>\n",
       "      <td>0</td>\n",
       "      <td>0</td>\n",
       "      <td>0</td>\n",
       "    </tr>\n",
       "    <tr>\n",
       "      <th>155</th>\n",
       "      <td>1</td>\n",
       "      <td>0</td>\n",
       "      <td>0</td>\n",
       "      <td>0</td>\n",
       "      <td>0</td>\n",
       "      <td>0</td>\n",
       "      <td>0</td>\n",
       "      <td>0</td>\n",
       "      <td>0</td>\n",
       "      <td>0</td>\n",
       "      <td>...</td>\n",
       "      <td>0</td>\n",
       "      <td>0</td>\n",
       "      <td>0</td>\n",
       "      <td>0</td>\n",
       "      <td>0</td>\n",
       "      <td>0</td>\n",
       "      <td>0</td>\n",
       "      <td>0</td>\n",
       "      <td>0</td>\n",
       "      <td>0</td>\n",
       "    </tr>\n",
       "    <tr>\n",
       "      <th>463</th>\n",
       "      <td>4</td>\n",
       "      <td>0</td>\n",
       "      <td>0</td>\n",
       "      <td>0</td>\n",
       "      <td>0</td>\n",
       "      <td>0</td>\n",
       "      <td>0</td>\n",
       "      <td>0</td>\n",
       "      <td>0</td>\n",
       "      <td>0</td>\n",
       "      <td>...</td>\n",
       "      <td>0</td>\n",
       "      <td>0</td>\n",
       "      <td>0</td>\n",
       "      <td>0</td>\n",
       "      <td>0</td>\n",
       "      <td>0</td>\n",
       "      <td>0</td>\n",
       "      <td>0</td>\n",
       "      <td>0</td>\n",
       "      <td>0</td>\n",
       "    </tr>\n",
       "    <tr>\n",
       "      <th>596</th>\n",
       "      <td>5</td>\n",
       "      <td>0</td>\n",
       "      <td>0</td>\n",
       "      <td>0</td>\n",
       "      <td>0</td>\n",
       "      <td>0</td>\n",
       "      <td>0</td>\n",
       "      <td>0</td>\n",
       "      <td>0</td>\n",
       "      <td>0</td>\n",
       "      <td>...</td>\n",
       "      <td>0</td>\n",
       "      <td>0</td>\n",
       "      <td>0</td>\n",
       "      <td>0</td>\n",
       "      <td>0</td>\n",
       "      <td>0</td>\n",
       "      <td>0</td>\n",
       "      <td>0</td>\n",
       "      <td>0</td>\n",
       "      <td>0</td>\n",
       "    </tr>\n",
       "    <tr>\n",
       "      <th>460</th>\n",
       "      <td>4</td>\n",
       "      <td>0</td>\n",
       "      <td>0</td>\n",
       "      <td>0</td>\n",
       "      <td>0</td>\n",
       "      <td>0</td>\n",
       "      <td>0</td>\n",
       "      <td>0</td>\n",
       "      <td>0</td>\n",
       "      <td>0</td>\n",
       "      <td>...</td>\n",
       "      <td>0</td>\n",
       "      <td>0</td>\n",
       "      <td>0</td>\n",
       "      <td>0</td>\n",
       "      <td>0</td>\n",
       "      <td>0</td>\n",
       "      <td>0</td>\n",
       "      <td>0</td>\n",
       "      <td>0</td>\n",
       "      <td>0</td>\n",
       "    </tr>\n",
       "  </tbody>\n",
       "</table>\n",
       "<p>1000 rows × 785 columns</p>\n",
       "</div>"
      ],
      "text/plain": [
       "     label  pixel0  pixel1  pixel2  pixel3  pixel4  pixel5  pixel6  pixel7  \\\n",
       "51       0       0       0       0       0       0       0       0       0   \n",
       "703      7       0       0       0       0       0       0       0       0   \n",
       "795      7       0       0       0       0       0       0       0       0   \n",
       "543      5       0       0       0       0       0       0       0       0   \n",
       "183      1       0       0       0       0       0       0       0       0   \n",
       "..     ...     ...     ...     ...     ...     ...     ...     ...     ...   \n",
       "819      8       0       0       0       0       0       0       0       0   \n",
       "155      1       0       0       0       0       0       0       0       0   \n",
       "463      4       0       0       0       0       0       0       0       0   \n",
       "596      5       0       0       0       0       0       0       0       0   \n",
       "460      4       0       0       0       0       0       0       0       0   \n",
       "\n",
       "     pixel8  ...  pixel774  pixel775  pixel776  pixel777  pixel778  pixel779  \\\n",
       "51        0  ...         0         0         0         0         0         0   \n",
       "703       0  ...         0         0         0         0         0         0   \n",
       "795       0  ...         0         0         0         0         0         0   \n",
       "543       0  ...         0         0         0         0         0         0   \n",
       "183       0  ...         0         0         0         0         0         0   \n",
       "..      ...  ...       ...       ...       ...       ...       ...       ...   \n",
       "819       0  ...         0         0         0         0         0         0   \n",
       "155       0  ...         0         0         0         0         0         0   \n",
       "463       0  ...         0         0         0         0         0         0   \n",
       "596       0  ...         0         0         0         0         0         0   \n",
       "460       0  ...         0         0         0         0         0         0   \n",
       "\n",
       "     pixel780  pixel781  pixel782  pixel783  \n",
       "51          0         0         0         0  \n",
       "703         0         0         0         0  \n",
       "795         0         0         0         0  \n",
       "543         0         0         0         0  \n",
       "183         0         0         0         0  \n",
       "..        ...       ...       ...       ...  \n",
       "819         0         0         0         0  \n",
       "155         0         0         0         0  \n",
       "463         0         0         0         0  \n",
       "596         0         0         0         0  \n",
       "460         0         0         0         0  \n",
       "\n",
       "[1000 rows x 785 columns]"
      ]
     },
     "execution_count": 70,
     "metadata": {},
     "output_type": "execute_result"
    }
   ],
   "source": [
    "import pandas as pd\n",
    "from sklearn.utils import shuffle\n",
    "data = pd.read_csv('dataset.csv')\n",
    "data = shuffle(data)\n",
    "data"
   ]
  },
  {
   "cell_type": "code",
   "execution_count": 129,
   "id": "a1f0eb4c-7d80-46f9-9314-798c06b0fdcf",
   "metadata": {},
   "outputs": [],
   "source": [
    "# matplotlib, joblib,numpy"
   ]
  },
  {
   "cell_type": "markdown",
   "id": "dd0dad4e-7adf-486f-8dd3-e819a6b2563f",
   "metadata": {},
   "source": [
    "# Separation of dependent and independent variable"
   ]
  },
  {
   "cell_type": "code",
   "execution_count": 72,
   "id": "a2ecd70e-95eb-41d6-abb4-4599254eb523",
   "metadata": {},
   "outputs": [],
   "source": [
    "X = data.drop(['label'],axis=1) # axis = 0 means separated vertically\n",
    "Y = data[\"label\"]"
   ]
  },
  {
   "cell_type": "markdown",
   "id": "bd3ba86a-d1a4-4e6f-8f60-7170c81b532a",
   "metadata": {},
   "source": [
    "# Preview of one image using matplotlib"
   ]
  },
  {
   "cell_type": "code",
   "execution_count": 124,
   "id": "dd63fef4-3c7f-46e5-8df4-255a3bfa13ed",
   "metadata": {},
   "outputs": [
    {
     "name": "stdout",
     "output_type": "stream",
     "text": [
      "0\n"
     ]
    },
    {
     "data": {
      "text/plain": [
       "<matplotlib.image.AxesImage at 0x2045289ff10>"
      ]
     },
     "execution_count": 124,
     "metadata": {},
     "output_type": "execute_result"
    },
    {
     "data": {
      "image/png": "[encoded data removed]",
      "text/plain": [
       "<Figure size 640x480 with 1 Axes>"
      ]
     },
     "metadata": {},
     "output_type": "display_data"
    }
   ],
   "source": [
    "import matplotlib.pyplot as plt\n",
    "import cv2\n",
    "idx = 99\n",
    "img = X.loc[idx].values.reshape(28,28)\n",
    "print(Y[idx])\n",
    "plt.imshow(img)"
   ]
  },
  {
   "cell_type": "markdown",
   "id": "2c34e654-5d37-4794-bf4f-11f473f677d5",
   "metadata": {},
   "source": [
    "# Train-test split"
   ]
  },
  {
   "cell_type": "code",
   "execution_count": 125,
   "id": "847a1a7b-5205-4eee-89b6-d6584e50e655",
   "metadata": {},
   "outputs": [],
   "source": [
    "from sklearn.model_selection import train_test_split\n",
    "train_x,test_x,train_y,test_y = train_test_split(X,Y,test_size = 0.2)# 0.2 means 20% of images are used for testing purpose and 80 for training\n"
   ]
  },
  {
   "cell_type": "markdown",
   "id": "fbdafed5-330a-43f4-b652-3aa7568474f2",
   "metadata": {},
   "source": [
    "# Fit the model using svc and also to save the model using joblib"
   ]
  },
  {
   "cell_type": "code",
   "execution_count": 126,
   "id": "e9baa49a-ba0a-4498-aaac-a30fdd6f25e7",
   "metadata": {},
   "outputs": [
    {
     "data": {
      "text/plain": [
       "['model/digit_recognizer']"
      ]
     },
     "execution_count": 126,
     "metadata": {},
     "output_type": "execute_result"
    }
   ],
   "source": [
    "import joblib\n",
    "from sklearn.svm import SVC\n",
    "classifier = SVC(kernel = 'linear', random_state=6) #svc documentation\n",
    "classifier.fit(train_x,train_y)\n",
    "joblib.dump(classifier, \"model/digit_recognizer\")"
   ]
  },
  {
   "cell_type": "markdown",
   "id": "6e126a21-1af2-4798-aec1-5405334a1cb3",
   "metadata": {},
   "source": [
    "# Calculate accuracy"
   ]
  },
  {
   "cell_type": "code",
   "execution_count": 127,
   "id": "0133432f-533c-4ca1-965a-2ab0eb0032b0",
   "metadata": {},
   "outputs": [
    {
     "name": "stdout",
     "output_type": "stream",
     "text": [
      "Accuracy=  0.595\n"
     ]
    }
   ],
   "source": [
    "from sklearn import metrics\n",
    "prediction = classifier.predict(test_x)\n",
    "print(\"Accuracy= \",metrics.accuracy_score(prediction, test_y))"
   ]
  },
  {
   "cell_type": "markdown",
   "id": "e3079899-b8c0-4163-9800-6e8cb3cabb18",
   "metadata": {},
   "source": [
    "# Prediction of image drawn in paint"
   ]
  },
  {
   "cell_type": "code",
   "execution_count": 138,
   "id": "88bb95b6-ce64-4a12-84ac-9c4cfaf07374",
   "metadata": {},
   "outputs": [
    {
     "name": "stdout",
     "output_type": "stream",
     "text": [
      "Prediction: 4\n",
      "Prediction: 6\n",
      "Prediction: 9\n",
      "Prediction: 8\n",
      "Prediction: 3\n",
      "Prediction: 1\n",
      "Prediction: 0\n",
      "Prediction: 2\n"
     ]
    },
    {
     "ename": "KeyboardInterrupt",
     "evalue": "",
     "output_type": "error",
     "traceback": [
      "\u001b[1;31m---------------------------------------------------------------------------\u001b[0m",
      "\u001b[1;31mKeyboardInterrupt\u001b[0m                         Traceback (most recent call last)",
      "Cell \u001b[1;32mIn[138], line 52\u001b[0m\n\u001b[0;32m     50\u001b[0m cv2\u001b[38;5;241m.\u001b[39mnamedWindow(\u001b[38;5;124m\"\u001b[39m\u001b[38;5;124mResult\u001b[39m\u001b[38;5;124m\"\u001b[39m)\n\u001b[0;32m     51\u001b[0m cv2\u001b[38;5;241m.\u001b[39mimshow(\u001b[38;5;124m\"\u001b[39m\u001b[38;5;124mResult\u001b[39m\u001b[38;5;124m\"\u001b[39m,im)\n\u001b[1;32m---> 52\u001b[0m \u001b[43mcv2\u001b[49m\u001b[38;5;241;43m.\u001b[39;49m\u001b[43mwaitKey\u001b[49m\u001b[43m(\u001b[49m\u001b[38;5;241;43m10000\u001b[39;49m\u001b[43m)\u001b[49m\n\u001b[0;32m     53\u001b[0m \u001b[38;5;28;01mif\u001b[39;00m cv2\u001b[38;5;241m.\u001b[39mwaitKey(\u001b[38;5;241m1\u001b[39m)\u001b[38;5;241m==\u001b[39m\u001b[38;5;241m13\u001b[39m:\u001b[38;5;66;03m# 27 is the ASCII value of esc, 13 is the ASCII value of enter \u001b[39;00m\n\u001b[0;32m     54\u001b[0m     \u001b[38;5;28;01mbreak\u001b[39;00m\n",
      "\u001b[1;31mKeyboardInterrupt\u001b[0m: "
     ]
    }
   ],
   "source": [
    "import joblib\n",
    "import cv2\n",
    "import numpy as np\n",
    "import time\n",
    "import pyscreenshot as ImageGrab\n",
    "import warnings\n",
    "\n",
    "model = joblib.load(\"model/digit_recognizer\")\n",
    "images_folder=\"img/\"\n",
    "\n",
    "while True:\n",
    "    img = ImageGrab.grab(bbox= (170,320,670,810))\n",
    "\n",
    "    img.save(images_folder+\"img.png\")\n",
    "    im = cv2.imread(images_folder+\"img.png\")\n",
    "    im_gray =cv2.cvtColor(im,cv2.COLOR_BGR2GRAY)\n",
    "    im_gray = cv2.GaussianBlur(im_gray, (15,15), 0)\n",
    "\n",
    "    #Threshold the image\n",
    "    ret, im_th = cv2.threshold(im_gray,100, 255, cv2.THRESH_BINARY)\n",
    "    roi = cv2.resize(im_th, (28,28), interpolation = cv2.INTER_AREA)\n",
    "\n",
    "    rows,cols = roi.shape\n",
    "\n",
    "    X = []\n",
    "\n",
    "    # Add pixel one by one into data array\n",
    "    for i in range(rows):\n",
    "        for j in range(cols):\n",
    "            k = roi[i,j]\n",
    "            if k>100:\n",
    "                k=1\n",
    "            else:\n",
    "                k=0\n",
    "            X.append(k)\n",
    "\n",
    "    predictions = model.predict([X])\n",
    "    print(\"Prediction:\", predictions[0])\n",
    "    cv2.putText(im, \"Prediction is: \"+str(predictions[0]), (20,20), 0, 0.8, (0,255,0),2,cv2.LINE_AA)\n",
    "\n",
    "    warnings.filterwarnings(\"ignore\", category=UserWarning)\n",
    "\n",
    "    svc = SVC()\n",
    "    svc.fit(train_x, train_y)\n",
    "    \n",
    "    # Ignore the warning.\n",
    "    y_pred = svc.predict(test_x)\n",
    "\n",
    "    cv2.startWindowThread()\n",
    "    cv2.namedWindow(\"Result\")\n",
    "    cv2.imshow(\"Result\",im)\n",
    "    cv2.waitKey(10000)\n",
    "    if cv2.waitKey(1)==13:# 27 is the ASCII value of esc, 13 is the ASCII value of enter \n",
    "        break\n",
    "cv2.destroyAllWindows()\n",
    "\n"
   ]
  },
  {
   "cell_type": "code",
   "execution_count": null,
   "id": "7d4a540d-f00b-4ca7-8736-d2417a289e09",
   "metadata": {},
   "outputs": [],
   "source": []
  }
 ],
 "metadata": {
  "kernelspec": {
   "display_name": "Python 3 (ipykernel)",
   "language": "python",
   "name": "python3"
  },
  "language_info": {
   "codemirror_mode": {
    "name": "ipython",
    "version": 3
   },
   "file_extension": ".py",
   "mimetype": "text/x-python",
   "name": "python",
   "nbconvert_exporter": "python",
   "pygments_lexer": "ipython3",
   "version": "3.11.1"
  }
 },
 "nbformat": 4,
 "nbformat_minor": 5
}
